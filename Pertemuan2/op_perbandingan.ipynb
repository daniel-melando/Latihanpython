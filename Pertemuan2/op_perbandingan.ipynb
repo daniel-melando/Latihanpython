{
 "cells": [
  {
   "cell_type": "markdown",
   "id": "332987c8",
   "metadata": {},
   "source": [
    "# Operator perbandingan\n",
    "Operator perbandigan adalah operator untuk membandingkan 2 nilai.\n",
    "Operator perbandingan pasti menghasilkan nilai kebenaran bool dengan kemungkinannya hanya dua nilai, yaitu benar (True) atau salah (False).\n",
    "| Operator | Deskripsi                           | Contoh   | Hasil   |\n",
    "|----------|-------------------------------------|----------|---------|\n",
    "| `==`     | Sama dengan                         | `4 == 5` | `False` |\n",
    "| `!=`     | Tidak sama dengan                   | `4 != 5` | `True`  |\n",
    "| `>`      | Lebih besar                         | `4 > 5`  | `False` |\n",
    "| `<`      | Lebih kecil                         | `4 < 5`  | `True`  |\n",
    "| `>=`     | Lebih besar atau sama dengan        | `5 >= 5` | `True`  |\n",
    "| `<=`     | Lebih kecil atau sama dengan        | `4 <= 5` | `True`  |"
   ]
  },
  {
   "cell_type": "code",
   "execution_count": 3,
   "id": "8b706543",
   "metadata": {},
   "outputs": [
    {
     "name": "stdout",
     "output_type": "stream",
     "text": [
      "===OPERASI PERBANDINGAN===\n",
      "1 == 1 True\n",
      "1 == 2 False\n",
      "1 != 2 True\n",
      "1 > 2 False\n",
      "1 < 2 True\n",
      "1 >= 2 False\n",
      "1 <= 2 True\n",
      "1 >= 1 True\n"
     ]
    }
   ],
   "source": [
    "print(\"===OPERASI PERBANDINGAN===\")\n",
    "print(\"1 == 1\", 1 == 1)\n",
    "print(\"1 == 2\", 1 == 2)\n",
    "print(\"1 != 2\", 1 != 2)\n",
    "print(\"1 > 2\", 1 > 2)\n",
    "print(\"1 < 2\", 1 < 2)\n",
    "print(\"1 >= 2\", 1 >= 2)\n",
    "print(\"1 <= 2\", 1 <= 2)\n",
    "print(\"1 >= 1\", 1 >= 1)\n",
    "\n",
    "\n"
   ]
  },
  {
   "cell_type": "code",
   "execution_count": 7,
   "id": "185a5c65",
   "metadata": {},
   "outputs": [
    {
     "name": "stdout",
     "output_type": "stream",
     "text": [
      "===CONTOH PENERAPAN OPERATOR PERBANDINGAN===\n",
      "\n",
      "Nilai Akhir: 81.0\n",
      "kehadiran: 90\n",
      "tugas: 80\n",
      "uts: 80\n",
      "uas: 80\n",
      "Grade A\n"
     ]
    }
   ],
   "source": [
    "print(\"===CONTOH PENERAPAN OPERATOR PERBANDINGAN===\\n\")\n",
    "\n",
    "bobot_kehadiran = 0.1\n",
    "bobot_tugas = 0.2\n",
    "bobot_uts = 0.3\n",
    "bobot_uas = 0.4\n",
    "\n",
    "kehadiran = 90\n",
    "tugas = 80\n",
    "uts = 80\n",
    "uas = 80\n",
    "\n",
    "nilai_akhir = (kehadiran * bobot_kehadiran) + (tugas * bobot_tugas) + (uts * bobot_uts) + (uas * bobot_uas)\n",
    "print(\"Nilai Akhir:\", nilai_akhir)\n",
    "\n",
    "print(\"kehadiran:\", kehadiran)\n",
    "print(\"tugas:\", tugas)\n",
    "print(\"uts:\", uts)\n",
    "print(\"uas:\", uas)\n",
    "\n",
    "\n",
    "if nilai_akhir >= 80:\n",
    "    print(\"Grade A\")\n",
    "elif nilai_akhir >= 70:\n",
    "    print(\"Grade B\")\n",
    "elif nilai_akhir >= 60:\n",
    "    print(\"Grade C\")\n",
    "elif nilai_akhir >= 50:\n",
    "    print(\"Grade D\")\n",
    "else:\n",
    "    print(\"Grade E\")"
   ]
  }
 ],
 "metadata": {
  "kernelspec": {
   "display_name": "Python 3",
   "language": "python",
   "name": "python3"
  },
  "language_info": {
   "codemirror_mode": {
    "name": "ipython",
    "version": 3
   },
   "file_extension": ".py",
   "mimetype": "text/x-python",
   "name": "python",
   "nbconvert_exporter": "python",
   "pygments_lexer": "ipython3",
   "version": "3.13.7"
  }
 },
 "nbformat": 4,
 "nbformat_minor": 5
}
