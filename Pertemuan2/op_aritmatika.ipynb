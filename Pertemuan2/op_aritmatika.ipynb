{
 "cells": [
  {
   "cell_type": "markdown",
   "id": "1c39081a",
   "metadata": {},
   "source": [
    "# Operator Aritmatika\n",
    "- `+` → operasi tambah  \n",
    "- `-` → operasi pengurangan  \n",
    "- `*` → operasi perkalian  \n",
    "- `/` → operasi pembagian  \n",
    "- `//` → operasi bagi dibulatkan ke bawah  \n",
    "- `%` → operasi modulo (sisa hasil bagi)  \n",
    "- `**` → operasi pangkat"
   ]
  },
  {
   "cell_type": "code",
   "execution_count": null,
   "id": "13d4c73c",
   "metadata": {},
   "outputs": [],
   "source": [
    "print(\"===OPERASI ARITMATIKA===\")\n",
    "nilai_1 = 10\n",
    "nilai_2 = 20\n",
    "\n",
    "# hasil = nilai_1+nilai_2\n",
    "# shift + alt + arrow down - duplicate line\n",
    "print(f\"hasil penjumlahan: {nilai_1+nilai_2}\")\n",
    "print(f\"hasil pemngurangan: {nilai_1-nilai_2}\")\n",
    "print(f\"hasil perkalian: {nilai_1*nilai_2}\")\n",
    "print(f\"hasil pembagian: {nilai_1/nilai_2}\")\n",
    "print(f\"hasil bagi dibulatkan ke bawah: {nilai_1//nilai_2}\")\n",
    "print(f\"hasil modulus: {nilai_1%nilai_2}\")\n",
    "print(f\"hasil pangkat: {nilai_1**nilai_2}\")\n",
    "print(f\"hasil floor division: {nilai_1//nilai_2}\")\n"
   ]
  },
  {
   "cell_type": "code",
   "execution_count": 3,
   "id": "207d3633",
   "metadata": {},
   "outputs": [
    {
     "name": "stdout",
     "output_type": "stream",
     "text": [
      "===OPERASI ARITMATIKA MENGGUNAKAN FUNGSI INPUT===\n",
      "20.0\n",
      "30.0\n",
      "hasil penjumlahan: 50.0\n",
      "hasil pemngurangan: -10.0\n",
      "hasil perkalian: 600.0\n",
      "hasil pembagian: 0.6666666666666666\n",
      "hasil bagi dibulatkan ke bawah: 0.0\n",
      "hasil modulus: 20.0\n",
      "hasil pangkat: 1.073741824e+39\n",
      "hasil floor division: 0.0\n"
     ]
    }
   ],
   "source": [
    "print(\"===OPERASI ARITMATIKA MENGGUNAKAN FUNGSI INPUT===\")\n",
    "\n",
    "nilai_1 = float(input(\"Masukkan nilai 1: \"))\n",
    "nilai_2 = float(input(\"Masukkan nilai 2: \"))\n",
    "\n",
    "print(nilai_1)\n",
    "print(nilai_2)\n",
    "print(f\"hasil penjumlahan: {nilai_1 + nilai_2}\")\n",
    "print(f\"hasil pemngurangan: {nilai_1 - nilai_2}\")\n",
    "print(f\"hasil perkalian: {nilai_1 * nilai_2}\")\n",
    "print(f\"hasil pembagian: {nilai_1 / nilai_2}\")\n",
    "print(f\"hasil bagi dibulatkan ke bawah: {nilai_1 // nilai_2}\")\n",
    "print(f\"hasil modulus: {nilai_1 % nilai_2}\")\n",
    "print(f\"hasil pangkat: {nilai_1 ** nilai_2}\")\n",
    "print(f\"hasil floor division: {nilai_1 // nilai_2}\")"
   ]
  }
 ],
 "metadata": {
  "kernelspec": {
   "display_name": "Python 3",
   "language": "python",
   "name": "python3"
  },
  "language_info": {
   "codemirror_mode": {
    "name": "ipython",
    "version": 3
   },
   "file_extension": ".py",
   "mimetype": "text/x-python",
   "name": "python",
   "nbconvert_exporter": "python",
   "pygments_lexer": "ipython3",
   "version": "3.13.7"
  }
 },
 "nbformat": 4,
 "nbformat_minor": 5
}
